{
  "nbformat": 4,
  "nbformat_minor": 0,
  "metadata": {
    "colab": {
      "private_outputs": true,
      "provenance": []
    },
    "kernelspec": {
      "name": "python3",
      "display_name": "Python 3"
    },
    "language_info": {
      "name": "python"
    }
  },
  "cells": [
    {
      "cell_type": "markdown",
      "source": [
        "# Problem 1: Reverse a singly linked list.\n"
      ],
      "metadata": {
        "id": "P22eEBUzrZ0m"
      }
    },
    {
      "cell_type": "code",
      "execution_count": null,
      "metadata": {
        "id": "1x15QwvmrZHJ"
      },
      "outputs": [],
      "source": [
        "\n",
        "class ListNode:\n",
        "    def __init__(self, value=0, next=None):\n",
        "        self.value = value\n",
        "        self.next = next\n",
        "\n",
        "def reverse_linked_list(head):\n",
        "    prev = None\n",
        "    current = head\n",
        "    while current:\n",
        "        next_node = current.next\n",
        "        current.next = prev\n",
        "        prev = current\n",
        "        current = next_node\n",
        "    return prev\n",
        "\n",
        "# Example\n",
        "head = ListNode(1, ListNode(2, ListNode(3, ListNode(4, ListNode(5)))))\n",
        "new_head = reverse_linked_list(head)\n",
        "\n",
        "# Traverse and print the reversed list\n",
        "while new_head:\n",
        "    print(new_head.value, end=\" -> \" if new_head.next else \"\")\n",
        "    new_head = new_head.next\n",
        "\n"
      ]
    },
    {
      "cell_type": "markdown",
      "source": [
        "\n",
        "# Problem 2: Merge two sorted linked lists into one sorted linked list.\n",
        "\n"
      ],
      "metadata": {
        "id": "_9M8Yap-rk-T"
      }
    },
    {
      "cell_type": "code",
      "source": [
        "\n",
        "def merge_two_lists(l1, l2):\n",
        "    dummy = ListNode()\n",
        "    current = dummy\n",
        "    while l1 and l2:\n",
        "        if l1.value < l2.value:\n",
        "            current.next = l1\n",
        "            l1 = l1.next\n",
        "        else:\n",
        "            current.next = l2\n",
        "            l2 = l2.next\n",
        "        current = current.next\n",
        "\n",
        "    current.next = l1 if l1 else l2\n",
        "    return dummy.next\n",
        "\n",
        "# Example\n",
        "l1 = ListNode(1, ListNode(3, ListNode(5)))\n",
        "l2 = ListNode(2, ListNode(4, ListNode(6)))\n",
        "merged_head = merge_two_lists(l1, l2)\n",
        "\n",
        "# Traverse and print the merged list\n",
        "while merged_head:\n",
        "    print(merged_head.value, end=\" -> \" if merged_head.next else \"\")\n",
        "    merged_head = merged_head.next\n"
      ],
      "metadata": {
        "id": "RbQ5BaRNrnWV"
      },
      "execution_count": null,
      "outputs": []
    },
    {
      "cell_type": "markdown",
      "source": [
        "# Problem 3: Remove the nth node from the end of a linked list.\n",
        "\n"
      ],
      "metadata": {
        "id": "ztE2-qlFrn1H"
      }
    },
    {
      "cell_type": "code",
      "source": [
        "def remove_nth_from_end(head, n):\n",
        "    dummy = ListNode(0, head)\n",
        "    first = dummy\n",
        "    second = dummy\n",
        "\n",
        "    for _ in range(n + 1):\n",
        "        first = first.next\n",
        "\n",
        "    while first:\n",
        "        first = first.next\n",
        "        second = second.next\n",
        "\n",
        "    second.next = second.next.next\n",
        "    return dummy.next\n",
        "\n",
        "# Example\n",
        "head = ListNode(1, ListNode(2, ListNode(3, ListNode(4, ListNode(5)))))\n",
        "new_head = remove_nth_from_end(head, 2)\n",
        "\n",
        "# Traverse and print the updated list\n",
        "while new_head:\n",
        "    print(new_head.value, end=\" -> \" if new_head.next else \"\")\n",
        "    new_head = new_head.next\n"
      ],
      "metadata": {
        "id": "h-Yx1cXjrqCc"
      },
      "execution_count": null,
      "outputs": []
    },
    {
      "cell_type": "markdown",
      "source": [
        "# Problem 4: Find the intersection point of two linked lists.\n",
        "\n"
      ],
      "metadata": {
        "id": "6Get5ktErqtl"
      }
    },
    {
      "cell_type": "code",
      "source": [
        "\n",
        "def get_intersection_node(headA, headB):\n",
        "    if not headA or not headB:\n",
        "        return None\n",
        "\n",
        "    a_pointer, b_pointer = headA, headB\n",
        "\n",
        "    while a_pointer != b_pointer:\n",
        "        a_pointer = a_pointer.next if a_pointer else headB\n",
        "        b_pointer = b_pointer.next if b_pointer else headA\n",
        "\n",
        "    return a_pointer\n",
        "\n",
        "# Example\n",
        "intersection = ListNode(3, ListNode(4))\n",
        "l1 = ListNode(1, ListNode(2, intersection))\n",
        "l2 = ListNode(9, ListNode(8, intersection))\n",
        "\n",
        "intersect_node = get_intersection_node(l1, l2)\n",
        "print(intersect_node.value)  # Output: 3\n"
      ],
      "metadata": {
        "id": "4s6Vzlibrs9F"
      },
      "execution_count": null,
      "outputs": []
    },
    {
      "cell_type": "markdown",
      "source": [
        "# Problem 5: Remove duplicates from a sorted linked list.\n",
        "\n"
      ],
      "metadata": {
        "id": "lDby2N0ArtXc"
      }
    },
    {
      "cell_type": "code",
      "source": [
        "def remove_duplicates(head):\n",
        "    current = head\n",
        "    while current and current.next:\n",
        "        if current.value == current.next.value:\n",
        "            current.next = current.next.next\n",
        "        else:\n",
        "            current = current.next\n",
        "    return head\n",
        "\n",
        "# Example\n",
        "head = ListNode(1, ListNode(1, ListNode(2, ListNode(3, ListNode(3)))))\n",
        "new_head = remove_duplicates(head)\n",
        "\n",
        "# Traverse and print the updated list\n",
        "while new_head:\n",
        "    print(new_head.value, end=\" -> \" if new_head.next else \"\")\n",
        "    new_head = new_head.next\n"
      ],
      "metadata": {
        "id": "6bS4HVLervKB"
      },
      "execution_count": null,
      "outputs": []
    },
    {
      "cell_type": "markdown",
      "source": [
        "# Problem 6: Add two numbers represented by linked lists (where each node contains a single digit).\n",
        "\n"
      ],
      "metadata": {
        "id": "ueooxg2Irvtc"
      }
    },
    {
      "cell_type": "code",
      "source": [
        "\n",
        "def add_two_numbers(l1, l2):\n",
        "    dummy = ListNode()\n",
        "    current = dummy\n",
        "    carry = 0\n",
        "\n",
        "    while l1 or l2 or carry:\n",
        "        val1 = l1.value if l1 else 0\n",
        "        val2 = l2.value if l2 else 0\n",
        "        total = val1 + val2 + carry\n",
        "\n",
        "        carry = total // 10\n",
        "        current.next = ListNode(total % 10)\n",
        "        current = current.next\n",
        "\n",
        "        if l1:\n",
        "            l1 = l1.next\n",
        "        if l2:\n",
        "            l2 = l2.next\n",
        "\n",
        "    return dummy.next\n",
        "\n",
        "# Example\n",
        "l1 = ListNode(2, ListNode(4, ListNode(3)))\n",
        "l2 = ListNode(5, ListNode(6, ListNode(4)))\n",
        "result_head = add_two_numbers(l1, l2)\n",
        "\n",
        "# Traverse and print the result list\n",
        "while result_head:\n",
        "    print(result_head.value, end=\" -> \" if result_head.next else \"\")\n",
        "    result_head = result_head.next\n"
      ],
      "metadata": {
        "id": "SMl26jSXrxb7"
      },
      "execution_count": null,
      "outputs": []
    },
    {
      "cell_type": "markdown",
      "source": [
        "# Problem 7: Swap nodes in pairs in a linked list.\n",
        "\n"
      ],
      "metadata": {
        "id": "Xv-uAoxirx4S"
      }
    },
    {
      "cell_type": "code",
      "source": [
        "def swap_pairs(head):\n",
        "    dummy = ListNode(0, head)\n",
        "    prev = dummy\n",
        "\n",
        "    while head and head.next:\n",
        "        first_node = head\n",
        "        second_node = head.next\n",
        "\n",
        "        prev.next = second_node\n",
        "        first_node.next = second_node.next\n",
        "        second_node.next = first_node\n",
        "\n",
        "        prev = first_node\n",
        "        head = first_node.next\n",
        "\n",
        "    return dummy.next\n",
        "\n",
        "# Example\n",
        "head = ListNode(1, ListNode(2, ListNode(3, ListNode(4))))\n",
        "new_head = swap_pairs(head)\n",
        "\n",
        "# Traverse and print the updated list\n",
        "while new_head:\n",
        "    print(new_head.value, end=\" -> \" if new_head.next else \"\")\n",
        "    new_head = new_head.next\n"
      ],
      "metadata": {
        "id": "I7p-6ZSdrzuR"
      },
      "execution_count": null,
      "outputs": []
    },
    {
      "cell_type": "markdown",
      "source": [
        "# Problem 8: Reverse nodes in a linked list in groups of k.\n",
        "\n",
        "\n",
        "\n"
      ],
      "metadata": {
        "id": "rGKzdlKur0KC"
      }
    },
    {
      "cell_type": "code",
      "source": [
        "def reverse_k_group(head, k):\n",
        "    def reverse_linked_list(head, k):\n",
        "        prev, current = None, head\n",
        "        while k:\n",
        "            next_node = current.next\n",
        "            current.next = prev\n",
        "            prev = current\n",
        "            current = next_node\n",
        "            k -= 1\n",
        "        return prev\n",
        "\n",
        "    count = 0\n",
        "    ptr = head\n",
        "\n",
        "    while ptr and count < k:\n",
        "        ptr = ptr.next\n",
        "        count += 1\n",
        "\n",
        "    if count == k:\n",
        "        reversed_head = reverse_linked_list(head, k)\n",
        "        head.next = reverse_k_group(ptr, k)\n",
        "        return reversed_head\n",
        "\n",
        "    return head\n",
        "\n",
        "# Example\n",
        "head = ListNode(1, ListNode(2, ListNode(3, ListNode(4, ListNode(5)))))\n",
        "new_head = reverse_k_group(head, 3)\n",
        "\n",
        "# Traverse and print the updated list\n",
        "while new_head:\n",
        "    print(new_head.value, end=\" -> \" if new_head.next else \"\")\n",
        "    new_head = new_head.next\n"
      ],
      "metadata": {
        "id": "2uaSEGqpr1_0"
      },
      "execution_count": null,
      "outputs": []
    },
    {
      "cell_type": "markdown",
      "source": [
        "# Problem 9: Determine if a linked list is a palindrome."
      ],
      "metadata": {
        "id": "6HcdEtKOr2Yc"
      }
    },
    {
      "cell_type": "code",
      "source": [
        "class ListNode:\n",
        "    def __init__(self, value=0, next=None):\n",
        "        self.value = value\n",
        "        self.next = next\n",
        "\n",
        "def is_palindrome(head):\n",
        "    if not head or not head.next:\n",
        "        return True\n",
        "\n",
        "    # Step 1: Find the middle of the linked list\n",
        "    fast = slow = head\n",
        "    while fast and fast.next:\n",
        "        slow = slow.next\n",
        "        fast = fast.next.next\n",
        "\n",
        "    # Step 2: Reverse the second half of the linked list\n",
        "    prev = None\n",
        "    while slow:\n",
        "        next_node = slow.next\n",
        "        slow.next = prev\n",
        "        prev = slow\n",
        "        slow = next_node\n",
        "\n",
        "    # Step 3: Compare the first half and the reversed second half\n",
        "    left, right = head, prev\n",
        "    while right:  # We only need to compare the second half\n",
        "        if left.value != right.value:\n",
        "            return False\n",
        "        left = left.next\n",
        "        right = right.next\n",
        "\n",
        "    return True\n",
        "\n",
        "# Example\n",
        "head = ListNode(1, ListNode(2, ListNode(2, ListNode(1))))\n",
        "print(is_palindrome(head))  # Output: True\n"
      ],
      "metadata": {
        "id": "T5MH0Mtcsxd0"
      },
      "execution_count": null,
      "outputs": []
    },
    {
      "cell_type": "code",
      "source": [],
      "metadata": {
        "id": "Pxl_XnRBs-Os"
      },
      "execution_count": null,
      "outputs": []
    },
    {
      "cell_type": "markdown",
      "source": [
        "# Problem 10: Rotate a linked list to the right by k places."
      ],
      "metadata": {
        "id": "UVqIkW2FtYVn"
      }
    },
    {
      "cell_type": "code",
      "source": [
        "class ListNode:\n",
        "    def __init__(self, value=0, next=None):\n",
        "        self.value = value\n",
        "        self.next = next\n",
        "\n",
        "def rotate_right(head, k):\n",
        "    if not head or not head.next:\n",
        "        return head\n",
        "\n",
        "    # Step 1: Find the length of the list and the tail node\n",
        "    old_tail = head\n",
        "    length = 1\n",
        "    while old_tail.next:\n",
        "        old_tail = old_tail.next\n",
        "        length += 1\n",
        "\n",
        "    # Step 2: Make the list circular\n",
        "    old_tail.next = head\n",
        "\n",
        "    # Step 3: Find the new tail and the new head\n",
        "    new_tail = head\n",
        "    for _ in range(length - k % length - 1):\n",
        "        new_tail = new_tail.next\n",
        "\n",
        "    new_head = new_tail.next\n",
        "    new_tail.next = None\n",
        "\n",
        "    return new_head\n",
        "\n",
        "# Example\n",
        "head = ListNode(1, ListNode(2, ListNode(3, ListNode(4, ListNode(5)))))\n",
        "new_head = rotate_right(head, 2)\n",
        "\n",
        "# Traverse and print the rotated list\n",
        "while new_head:\n",
        "    print(new_head.value, end=\" -> \" if new_head.next else \"\")\n",
        "    new_head = new_head.next\n"
      ],
      "metadata": {
        "id": "t-RKmOrDteew"
      },
      "execution_count": null,
      "outputs": []
    },
    {
      "cell_type": "markdown",
      "source": [
        "# Problem 11: Flatten a multilevel doubly linked list.\n",
        "\n"
      ],
      "metadata": {
        "id": "C6qVu6Aste3M"
      }
    },
    {
      "cell_type": "code",
      "source": [
        "class Node:\n",
        "    def __init__(self, value=None, prev=None, next=None, child=None):\n",
        "        self.value = value\n",
        "        self.prev = prev\n",
        "        self.next = next\n",
        "        self.child = child\n",
        "\n",
        "def flatten(head):\n",
        "    if not head:\n",
        "        return head\n",
        "\n",
        "    stack = []\n",
        "    current = head\n",
        "\n",
        "    while current:\n",
        "        if current.child:\n",
        "            if current.next:\n",
        "                stack.append(current.next)\n",
        "            current.next = current.child\n",
        "            current.child.prev = current\n",
        "            current.child = None\n",
        "        if not current.next and stack:\n",
        "            current.next = stack.pop()\n",
        "            current.next.prev = current\n",
        "        current = current.next\n",
        "\n",
        "    return head\n",
        "\n",
        "# Example\n",
        "head = Node(1, next=Node(2, next=Node(3, next=Node(7, next=Node(8, next=Node(11, next=Node(12)))))))\n",
        "head.next.next.child = Node(4, next=Node(5, next=Node(9, next=Node(10))))\n",
        "head.next.next.child.child = Node(6, next=Node(13))\n",
        "\n",
        "flattened_head = flatten(head)\n",
        "\n",
        "# Traverse and print the flattened list\n",
        "current = flattened_head\n",
        "while current:\n",
        "    print(current.value, end=\" <-> \" if current.next else \"\")\n",
        "    current = current.next\n"
      ],
      "metadata": {
        "id": "5smeSZGEtjQg"
      },
      "execution_count": null,
      "outputs": []
    },
    {
      "cell_type": "markdown",
      "source": [
        "# Problem 12: Rearrange a linked list such that all even positioned nodes are placed at the end.\n"
      ],
      "metadata": {
        "id": "OEKJrwaVtkeT"
      }
    },
    {
      "cell_type": "code",
      "source": [
        "def rearrange_even_odd(head):\n",
        "    if not head or not head.next:\n",
        "        return head\n",
        "\n",
        "    odd = head\n",
        "    even = head.next\n",
        "    even_head = even\n",
        "\n",
        "    while even and even.next:\n",
        "        odd.next = even.next\n",
        "        odd = odd.next\n",
        "        even.next = odd.next\n",
        "        even = even.next\n",
        "\n",
        "    odd.next = even_head\n",
        "    return head\n",
        "\n",
        "# Example\n",
        "head = ListNode(1, ListNode(2, ListNode(3, ListNode(4, ListNode(5)))))\n",
        "new_head = rearrange_even_odd(head)\n",
        "\n",
        "# Traverse and print the rearranged list\n",
        "while new_head:\n",
        "    print(new_head.value, end=\" -> \" if new_head.next else \"\")\n",
        "    new_head = new_head.next\n"
      ],
      "metadata": {
        "id": "qFnkDf4utotC"
      },
      "execution_count": null,
      "outputs": []
    },
    {
      "cell_type": "markdown",
      "source": [
        "# Problem 13: Given a non-negative number represented as a linked list, add one to it.\n"
      ],
      "metadata": {
        "id": "VLkq9-artpSM"
      }
    },
    {
      "cell_type": "code",
      "source": [
        "def add_one(head):\n",
        "    def reverse_linked_list(head):\n",
        "        prev, current = None, head\n",
        "        while current:\n",
        "            next_node = current.next\n",
        "            current.next = prev\n",
        "            prev = current\n",
        "            current = next_node\n",
        "        return prev\n",
        "\n",
        "    head = reverse_linked_list(head)\n",
        "\n",
        "    current, carry = head, 1\n",
        "    while current and carry:\n",
        "        current.value += carry\n",
        "        carry = current.value // 10\n",
        "        current.value %= 10\n",
        "        prev = current\n",
        "        current = current.next\n",
        "\n",
        "    if carry:\n",
        "        prev.next = ListNode(carry)\n",
        "\n",
        "    head = reverse_linked_list(head)\n",
        "    return head\n",
        "\n",
        "# Example\n",
        "head = ListNode(1, ListNode(2, ListNode(3)))\n",
        "new_head = add_one(head)\n",
        "\n",
        "# Traverse and print the updated list\n",
        "while new_head:\n",
        "    print(new_head.value, end=\" -> \" if new_head.next else \"\")\n",
        "    new_head = new_head.next\n"
      ],
      "metadata": {
        "id": "KZoMx94MtucJ"
      },
      "execution_count": null,
      "outputs": []
    },
    {
      "cell_type": "markdown",
      "source": [
        "# Problem 14: Given a sorted array and a target value, return the index if the target is found. If not, return the index where it would be inserted.\n",
        "\n"
      ],
      "metadata": {
        "id": "VxxgnuhTtvGc"
      }
    },
    {
      "cell_type": "code",
      "source": [
        "def search_insert(nums, target):\n",
        "    left, right = 0, len(nums) - 1\n",
        "    while left <= right:\n",
        "        mid = (left + right) // 2\n",
        "        if nums[mid] == target:\n",
        "            return mid\n",
        "        elif nums[mid] < target:\n",
        "            left = mid + 1\n",
        "        else:\n",
        "            right = mid - 1\n",
        "    return left\n",
        "\n",
        "# Example\n",
        "nums = [1, 3, 5, 6]\n",
        "target = 5\n",
        "print(search_insert(nums, target))  # Output: 2\n"
      ],
      "metadata": {
        "id": "TyYDJflZtzaA"
      },
      "execution_count": null,
      "outputs": []
    },
    {
      "cell_type": "markdown",
      "source": [
        "# Problem 15: Find the minimum element in a rotated sorted array.\n",
        "\n"
      ],
      "metadata": {
        "id": "k3EGWLqjtz2F"
      }
    },
    {
      "cell_type": "code",
      "source": [
        "def find_min(nums):\n",
        "    left, right = 0, len(nums) - 1\n",
        "    while left < right:\n",
        "        mid = (left + right) // 2\n",
        "        if nums[mid] > nums[right]:\n",
        "            left = mid + 1\n",
        "        else:\n",
        "            right = mid\n",
        "    return nums[left]\n",
        "\n",
        "# Example\n",
        "nums = [4, 5, 6, 7, 0, 1, 2]\n",
        "print(find_min(nums))  # Output: 0\n"
      ],
      "metadata": {
        "id": "9_STNTrCt15t"
      },
      "execution_count": null,
      "outputs": []
    },
    {
      "cell_type": "markdown",
      "source": [
        "# Problem 16: Search for a target value in a rotated sorted array.\n",
        "\n"
      ],
      "metadata": {
        "id": "7m6Q64QJt2VV"
      }
    },
    {
      "cell_type": "code",
      "source": [
        "def search_in_rotated_array(nums, target):\n",
        "    left, right = 0, len(nums) - 1\n",
        "    while left <= right:\n",
        "        mid = (left + right) // 2\n",
        "        if nums[mid] == target:\n",
        "            return mid\n",
        "        if nums[left] <= nums[mid]:\n",
        "            if nums[left] <= target < nums[mid]:\n",
        "                right = mid - 1\n",
        "            else:\n",
        "                left = mid + 1\n",
        "        else:\n",
        "            if nums[mid] < target <= nums[right]:\n",
        "                left = mid + 1\n",
        "            else:\n",
        "                right = mid - 1\n",
        "    return -1\n",
        "\n",
        "# Example\n",
        "nums = [4, 5, 6, 7, 0, 1, 2]\n",
        "target = 0\n",
        "print(search_in_rotated_array(nums, target))  # Output: 4\n"
      ],
      "metadata": {
        "id": "H0_4CV5Tt4rd"
      },
      "execution_count": null,
      "outputs": []
    },
    {
      "cell_type": "markdown",
      "source": [
        "# Problem 17: Find the peak element in an array. A peak element is greater than its neighbors.\n",
        "\n",
        "\n"
      ],
      "metadata": {
        "id": "CNexuAfft5ms"
      }
    },
    {
      "cell_type": "code",
      "source": [
        "def find_peak_element(nums):\n",
        "    left, right = 0, len(nums) - 1\n",
        "    while left < right:\n",
        "        mid = (left + right) // 2\n",
        "        if nums[mid] > nums[mid + 1]:\n",
        "            right = mid\n",
        "        else:\n",
        "            left = mid + 1\n",
        "    return left\n",
        "\n",
        "# Example\n",
        "nums = [1, 2, 3, 1]\n",
        "print(find_peak_element(nums))  # Output: 2\n"
      ],
      "metadata": {
        "id": "fIvGBxxLt7cX"
      },
      "execution_count": null,
      "outputs": []
    },
    {
      "cell_type": "markdown",
      "source": [
        "# Problem 18: Given a m x n matrix where each row and column is sorted in ascending order, count the number negative numbers"
      ],
      "metadata": {
        "id": "QSanNsHpt8Ps"
      }
    },
    {
      "cell_type": "code",
      "source": [
        "def count_negatives(grid):\n",
        "    count = 0\n",
        "    for row in grid:\n",
        "        left, right = 0, len(row) - 1\n",
        "        while left <= right:\n",
        "            mid = (left + right) // 2\n",
        "            if row[mid] < 0:\n",
        "                right = mid - 1\n",
        "            else:\n",
        "                left = mid + 1\n",
        "        count += len(row) - left\n",
        "    return count\n",
        "\n",
        "# Example\n",
        "grid = [\n",
        "    [4, 3, 2, -1],\n",
        "    [3, 2, 1, -1],\n",
        "    [1, 1, -1, -2],\n",
        "    [-1, -1, -2, -3]\n",
        "]\n",
        "print(count_negatives(grid))  # Output: 8\n"
      ],
      "metadata": {
        "id": "cx5-y7_jt-ar"
      },
      "execution_count": null,
      "outputs": []
    },
    {
      "cell_type": "markdown",
      "source": [
        "# Problem 19: Given a 2D matrix sorted in ascending order in each row, and the first integer of each row is greater than the last integer of the previous row, determine if a target value is present in the matrix.\n",
        "\n"
      ],
      "metadata": {
        "id": "tYcPQ2lzuuUi"
      }
    },
    {
      "cell_type": "code",
      "source": [
        "def search_matrix(matrix, target):\n",
        "    if not matrix:\n",
        "        return False\n",
        "\n",
        "    rows, cols = len(matrix), len(matrix[0])\n",
        "    left, right = 0, rows * cols - 1\n",
        "\n",
        "    while left <= right:\n",
        "        mid = (left + right) // 2\n",
        "        mid_value = matrix[mid // cols][mid % cols]\n",
        "\n",
        "        if mid_value == target:\n",
        "            return True\n",
        "        elif mid_value < target:\n",
        "            left = mid + 1\n",
        "        else:\n",
        "            right = mid - 1\n",
        "\n",
        "    return False\n",
        "\n",
        "# Example\n",
        "matrix = [\n",
        "    [1, 3, 5, 7],\n",
        "    [10, 11, 16, 20],\n",
        "    [23, 30, 34, 60]\n",
        "]\n",
        "target = 3\n",
        "print(search_matrix(matrix, target))  # Output: True\n"
      ],
      "metadata": {
        "id": "HUd6jOtiumk3"
      },
      "execution_count": null,
      "outputs": []
    },
    {
      "cell_type": "markdown",
      "source": [
        "# Problem 20: Find Median in Two Sorted Arrays Given two sorted arrays, find the median of the combined sorted array.\n",
        "\n"
      ],
      "metadata": {
        "id": "0SesgD45u1sU"
      }
    },
    {
      "cell_type": "code",
      "source": [
        "def find_median_sorted_arrays(nums1, nums2):\n",
        "    combined = sorted(nums1 + nums2)\n",
        "    n = len(combined)\n",
        "\n",
        "    if n % 2 == 1:\n",
        "        return float(combined[n // 2])\n",
        "    else:\n",
        "        return (combined[n // 2 - 1] + combined[n // 2]) / 2\n",
        "\n",
        "# Example\n",
        "nums1 = [1, 3]\n",
        "nums2 = [2]\n",
        "print(find_median_sorted_arrays(nums1, nums2))  # Output: 2.0\n"
      ],
      "metadata": {
        "id": "74z5YJpFu6nJ"
      },
      "execution_count": null,
      "outputs": []
    },
    {
      "cell_type": "markdown",
      "source": [
        "# Problem 21: Given a sorted character array and a target letter, find the smallest letter in the array that is greater than the target.\n",
        "\n"
      ],
      "metadata": {
        "id": "iCAY_Ivgu7F0"
      }
    },
    {
      "cell_type": "code",
      "source": [
        "def next_greatest_letter(letters, target):\n",
        "    left, right = 0, len(letters) - 1\n",
        "\n",
        "    while left <= right:\n",
        "        mid = (left + right) // 2\n",
        "        if letters[mid] <= target:\n",
        "            left = mid + 1\n",
        "        else:\n",
        "            right = mid - 1\n",
        "\n",
        "    return letters[left % len(letters)]\n",
        "\n",
        "# Example\n",
        "letters = ['c', 'f', 'j']\n",
        "target = 'a'\n",
        "print(next_greatest_letter(letters, target))  # Output: 'c'\n"
      ],
      "metadata": {
        "id": "_V4e37IMu-EM"
      },
      "execution_count": null,
      "outputs": []
    },
    {
      "cell_type": "markdown",
      "source": [
        "# Problem 22: Given an array with n objects colored red, white, or blue, sort them in-place so that objects of the same color are adjacent, with the colors in the order red, white, and blue.\n",
        "\n"
      ],
      "metadata": {
        "id": "Np9atcY0u-l9"
      }
    },
    {
      "cell_type": "code",
      "source": [
        "def sort_colors(nums):\n",
        "    low, mid, high = 0, 0, len(nums) - 1\n",
        "\n",
        "    while mid <= high:\n",
        "        if nums[mid] == 0:\n",
        "            nums[low], nums[mid] = nums[mid], nums[low]\n",
        "            low += 1\n",
        "            mid += 1\n",
        "        elif nums[mid] == 1:\n",
        "            mid += 1\n",
        "        else:\n",
        "            nums[mid], nums[high] = nums[high], nums[mid]\n",
        "            high -= 1\n",
        "\n",
        "# Example\n",
        "nums = [2, 0, 2, 1, 1, 0]\n",
        "sort_colors(nums)\n",
        "print(nums)  # Output: [0, 0, 1, 1, 2, 2]\n"
      ],
      "metadata": {
        "id": "LoEmuHPCvB57"
      },
      "execution_count": null,
      "outputs": []
    },
    {
      "cell_type": "markdown",
      "source": [
        "# Problem 23: Find the kth largest element in an unsorted array.\n",
        "\n",
        "\n"
      ],
      "metadata": {
        "id": "u3AMT6jLvCa0"
      }
    },
    {
      "cell_type": "code",
      "source": [
        "import heapq\n",
        "\n",
        "def find_kth_largest(nums, k):\n",
        "    return heapq.nlargest(k, nums)[-1]\n",
        "\n",
        "# Example\n",
        "nums = [3, 2, 1, 5, 6, 4]\n",
        "k = 2\n",
        "print(find_kth_largest(nums, k))  # Output: 5\n"
      ],
      "metadata": {
        "id": "dFPFEnB1vEKA"
      },
      "execution_count": null,
      "outputs": []
    },
    {
      "cell_type": "markdown",
      "source": [
        "# Problem 24: Given an unsorted array, reorder it in-place such that nums[0] <= nums[1] >= nums[2] <=nums[3]...\n"
      ],
      "metadata": {
        "id": "W7TUHGwTvE30"
      }
    },
    {
      "cell_type": "code",
      "source": [
        "def wiggle_sort(nums):\n",
        "    for i in range(len(nums) - 1):\n",
        "        if i % 2 == 0:\n",
        "            if nums[i] > nums[i + 1]:\n",
        "                nums[i], nums[i + 1] = nums[i + 1], nums[i]\n",
        "        else:\n",
        "            if nums[i] < nums[i + 1]:\n",
        "                nums[i], nums[i + 1] = nums[i + 1], nums[i]\n",
        "\n",
        "# Example\n",
        "nums = [3, 5, 2, 1, 6, 4]\n",
        "wiggle_sort(nums)\n",
        "print(nums)  # Output: [3, 5, 1, 6, 2, 4]\n"
      ],
      "metadata": {
        "id": "Bq0JHbvbvG20"
      },
      "execution_count": null,
      "outputs": []
    },
    {
      "cell_type": "markdown",
      "source": [
        "# Problem 25: Given an array of integers, calculate the sum of all its elements."
      ],
      "metadata": {
        "id": "VIiHcbgSvIm0"
      }
    },
    {
      "cell_type": "code",
      "source": [
        "def sum_of_elements(nums):\n",
        "    total = 0\n",
        "    for num in nums:\n",
        "        total += num\n",
        "    return total\n",
        "\n",
        "# Example\n",
        "nums = [1, 2, 3, 4, 5]\n",
        "print(sum_of_elements(nums))  # Output: 15\n"
      ],
      "metadata": {
        "id": "TR-kE1CyvJde"
      },
      "execution_count": null,
      "outputs": []
    },
    {
      "cell_type": "markdown",
      "source": [
        "# Problem 26: Find the maximum element in an array of integers."
      ],
      "metadata": {
        "id": "MsNomoefxZIW"
      }
    },
    {
      "cell_type": "code",
      "source": [
        "def find_max_element(nums):\n",
        "    if not nums:\n",
        "        raise ValueError(\"Array is empty\")\n",
        "\n",
        "    max_element = nums[0]\n",
        "    for num in nums:\n",
        "        if num > max_element:\n",
        "            max_element = num\n",
        "    return max_element\n",
        "\n",
        "# Example\n",
        "nums = [3, 5, 7, 2, 8, 6, 1]\n",
        "print(find_max_element(nums))  # Output: 8\n"
      ],
      "metadata": {
        "id": "7mk5KvtCvlbv"
      },
      "execution_count": null,
      "outputs": []
    },
    {
      "cell_type": "markdown",
      "source": [
        "# Problem 27: Implement linear search to find the index of a target element in an array.\n",
        "\n"
      ],
      "metadata": {
        "id": "CiMMhLgoxF9V"
      }
    },
    {
      "cell_type": "code",
      "source": [
        "def linear_search(array, target):\n",
        "    for index, value in enumerate(array):\n",
        "        if value == target:\n",
        "            return index\n",
        "    return -1  # Return -1 if the target is not found\n",
        "\n",
        "# Example\n",
        "array = [5, 3, 8, 2, 7, 4]\n",
        "target = 8\n",
        "print(linear_search(array, target))  # Output: 2\n"
      ],
      "metadata": {
        "id": "8NzAmBnKxKXF"
      },
      "execution_count": null,
      "outputs": []
    },
    {
      "cell_type": "markdown",
      "source": [
        "# Problem 28 Calculate the factorial of a given number.\n",
        "\n"
      ],
      "metadata": {
        "id": "dJseFiBJxLDd"
      }
    },
    {
      "cell_type": "code",
      "source": [
        "def factorial(n):\n",
        "    if n == 0:\n",
        "        return 1\n",
        "    return n * factorial(n - 1)\n",
        "\n",
        "# Example\n",
        "n = 5\n",
        "print(factorial(n))  # Output: 120\n"
      ],
      "metadata": {
        "id": "QDdH-5BkxNk9"
      },
      "execution_count": null,
      "outputs": []
    },
    {
      "cell_type": "markdown",
      "source": [
        "# Problem 29: Check if a given number is a prime number.\n",
        "\n",
        "\n"
      ],
      "metadata": {
        "id": "MAZ64i8GxOBk"
      }
    },
    {
      "cell_type": "code",
      "source": [
        "def is_prime(n):\n",
        "    if n <= 1:\n",
        "        return False\n",
        "    if n <= 3:\n",
        "        return True\n",
        "    if n % 2 == 0 or n % 3 == 0:\n",
        "        return False\n",
        "    i = 5\n",
        "    while i * i <= n:\n",
        "        if n % i == 0 or n % (i + 2) == 0:\n",
        "            return False\n",
        "        i += 6\n",
        "    return True\n",
        "\n",
        "# Example\n",
        "n = 7\n",
        "print(is_prime(n))  # Output: True\n"
      ],
      "metadata": {
        "id": "SDST_fzZxPon"
      },
      "execution_count": null,
      "outputs": []
    },
    {
      "cell_type": "markdown",
      "source": [
        "# Problem 30: Generate the Fibonacci series up to a given number n.\n",
        "\n",
        "\n"
      ],
      "metadata": {
        "id": "tMq8euYlxQG9"
      }
    },
    {
      "cell_type": "code",
      "source": [
        "def fibonacci_series(n):\n",
        "    series = []\n",
        "    a, b = 0, 1\n",
        "    while a <= n:\n",
        "        series.append(a)\n",
        "        a, b = b, a + b\n",
        "    return series\n",
        "\n",
        "# Example\n",
        "n = 8\n",
        "print(fibonacci_series(n))  # Output: [0, 1, 1, 2, 3, 5, 8]\n"
      ],
      "metadata": {
        "id": "xKVim6BVxRzi"
      },
      "execution_count": null,
      "outputs": []
    },
    {
      "cell_type": "markdown",
      "source": [
        "# Problem 31: Calculate the power of a number using recursion.\n",
        "\n"
      ],
      "metadata": {
        "id": "EvxItlHaxSN-"
      }
    },
    {
      "cell_type": "code",
      "source": [
        "def power(base, exponent):\n",
        "    if exponent == 0:\n",
        "        return 1\n",
        "    return base * power(base, exponent - 1)\n",
        "\n",
        "# Example\n",
        "base = 3\n",
        "exponent = 4\n",
        "print(power(base, exponent))  # Output: 81\n"
      ],
      "metadata": {
        "id": "NsTjQWCHxUIl"
      },
      "execution_count": null,
      "outputs": []
    },
    {
      "cell_type": "markdown",
      "source": [
        "# Problem 32: Reverse a given string."
      ],
      "metadata": {
        "id": "iZe7JndmxUtl"
      }
    },
    {
      "cell_type": "code",
      "source": [
        "def reverse_string(s):\n",
        "    return s[::-1]\n",
        "\n",
        "# Example\n",
        "s = \"hello\"\n",
        "print(reverse_string(s))  # Output: \"olleh\"\n"
      ],
      "metadata": {
        "id": "SHzAsAHcxVcM"
      },
      "execution_count": null,
      "outputs": []
    }
  ]
}