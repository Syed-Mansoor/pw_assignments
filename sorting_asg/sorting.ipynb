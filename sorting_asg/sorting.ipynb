{
 "cells": [
  {
   "cell_type": "markdown",
   "metadata": {
    "id": "QigxK_ULpP2j"
   },
   "source": [
    "Problem 1.Given an array of n numbers, give an algorithm which gives the element appearing maximum\n",
    "number of times?\n",
    "\n"
   ]
  },
  {
   "cell_type": "code",
   "execution_count": 2,
   "metadata": {
    "colab": {
     "base_uri": "https://localhost:8080/"
    },
    "id": "zmmYUuY2pT7Y",
    "outputId": "49c9b422-9a6f-4577-d380-21b3afe1130d"
   },
   "outputs": [
    {
     "name": "stdout",
     "output_type": "stream",
     "text": [
      "3\n"
     ]
    }
   ],
   "source": [
    "def find_max_occurrence(arr):\n",
    "    count = {}\n",
    "    for num in arr:\n",
    "        if num in count:\n",
    "            count[num] += 1\n",
    "        else:\n",
    "            count[num] = 1\n",
    "\n",
    "    max_element = max(count, key=count.get)\n",
    "    return max_element\n",
    "\n",
    "# Example usage:\n",
    "arr = [1, 3, 2, 3, 4, 3, 5, 3]\n",
    "print(find_max_occurrence(arr))  # Output: 3\n"
   ]
  },
  {
   "cell_type": "markdown",
   "metadata": {
    "id": "DKQfFIGaplQR"
   },
   "source": [
    "\n",
    "Problem 2 : We are given a list of n-1 integers and these integers are in the range of 1 to n . There are no\n",
    "duplicates in the list. One of the integers is missing in the list. Give an algorithm to find that element Ex:\n",
    "[1,2,4,6,3,7,8] 5 is the missing num.\n",
    "\n"
   ]
  },
  {
   "cell_type": "code",
   "execution_count": 4,
   "metadata": {
    "colab": {
     "base_uri": "https://localhost:8080/"
    },
    "id": "xszIma0apXqg",
    "outputId": "6315abfc-40ec-4ec5-f59e-cd1bf12fcf46"
   },
   "outputs": [
    {
     "name": "stdout",
     "output_type": "stream",
     "text": [
      "3\n"
     ]
    }
   ],
   "source": [
    "def find_missing_number(arr, n):\n",
    "    total_sum = n * (n + 1) // 2\n",
    "    actual_sum = sum(arr)\n",
    "    return total_sum - actual_sum\n",
    "\n",
    "# Example usage:\n",
    "arr = [1, 2, 4, 6, 5, 7, 8]\n",
    "n = 8\n",
    "print(find_missing_number(arr, n))\n"
   ]
  },
  {
   "cell_type": "markdown",
   "metadata": {
    "id": "ZWEQYIHzprgA"
   },
   "source": [
    "Problem 3 : Given an array of n positive numbers. All numbers occurs even number of times except 1 which\n",
    "occurs odd number of times. Find that number in O(n) time and O(1) space. Ex: [1,2,3,2,3,1,3]. 3 is repeats odd\n",
    "times.\n",
    "\n"
   ]
  },
  {
   "cell_type": "code",
   "execution_count": 6,
   "metadata": {
    "colab": {
     "base_uri": "https://localhost:8080/"
    },
    "id": "h9aslujXp0Gl",
    "outputId": "49bcdfcd-94e4-40be-b5c1-a14732de1964"
   },
   "outputs": [
    {
     "name": "stdout",
     "output_type": "stream",
     "text": [
      "3\n"
     ]
    }
   ],
   "source": [
    "def find_odd_occurrence(arr):\n",
    "    result = 0\n",
    "    for num in arr:\n",
    "        result ^= num\n",
    "    return result\n",
    "\n",
    "arr = [1, 2, 3, 2, 3, 1, 3]\n",
    "print(find_odd_occurrence(arr))\n"
   ]
  },
  {
   "cell_type": "markdown",
   "metadata": {
    "id": "wbYF6-e1p1WH"
   },
   "source": [
    "Problem 4 : Given an array of n elements. Find two elements in the array such that their sum is equal to given\n",
    "element K.\n",
    "\n",
    "\n"
   ]
  },
  {
   "cell_type": "code",
   "execution_count": 8,
   "metadata": {
    "colab": {
     "base_uri": "https://localhost:8080/"
    },
    "id": "etIzqsx6p4rf",
    "outputId": "467cbc9c-6893-44f0-9e8f-fb62ae01c744"
   },
   "outputs": [
    {
     "name": "stdout",
     "output_type": "stream",
     "text": [
      "(7, 2)\n"
     ]
    }
   ],
   "source": [
    "def find_pair_with_sum(arr, K):\n",
    "    seen = set()\n",
    "    for num in arr:\n",
    "        if K - num in seen:\n",
    "            return (num, K - num)\n",
    "        seen.add(num)\n",
    "    return None\n",
    "\n",
    "# Example usage:\n",
    "arr = [2, 7, 11, 15]\n",
    "K = 9\n",
    "print(find_pair_with_sum(arr, K))\n"
   ]
  },
  {
   "cell_type": "markdown",
   "metadata": {
    "id": "WLvbwKflp5QX"
   },
   "source": [
    "Problem 5 : Given an array of both positive and negative numbers, find two numbers such that their sum is\n",
    "closest to 0. Ex: [ 1 ,60 ,-10, 70, -80,85]. Ans : -80,85.\n",
    "\n"
   ]
  },
  {
   "cell_type": "code",
   "execution_count": 10,
   "metadata": {
    "colab": {
     "base_uri": "https://localhost:8080/"
    },
    "id": "KYyHEr5qp7bK",
    "outputId": "486ac3be-7f7d-459d-b97b-9c489a08df38"
   },
   "outputs": [
    {
     "name": "stdout",
     "output_type": "stream",
     "text": [
      "(-80, 85)\n"
     ]
    }
   ],
   "source": [
    "def find_two_elements_closest_to_zero(arr):\n",
    "    arr.sort()\n",
    "    left = 0\n",
    "    right = len(arr) - 1\n",
    "    closest_sum = float('inf')\n",
    "    result = (0, 0)\n",
    "\n",
    "    while left < right:\n",
    "        current_sum = arr[left] + arr[right]\n",
    "        if abs(current_sum) < abs(closest_sum):\n",
    "            closest_sum = current_sum\n",
    "            result = (arr[left], arr[right])\n",
    "\n",
    "        if current_sum < 0:\n",
    "            left += 1\n",
    "        else:\n",
    "            right -= 1\n",
    "\n",
    "    return result\n",
    "\n",
    "arr = [1, 60, -10, 70, -80, 85]\n",
    "print(find_two_elements_closest_to_zero(arr))\n"
   ]
  },
  {
   "cell_type": "markdown",
   "metadata": {
    "id": "IBIy_zH0p71B"
   },
   "source": [
    "Problem 6 : Given an array of n elements . Find three elements such that their sum is equal to the given\n",
    "number.\n",
    "\n"
   ]
  },
  {
   "cell_type": "code",
   "execution_count": 12,
   "metadata": {
    "colab": {
     "base_uri": "https://localhost:8080/"
    },
    "id": "x37HT8gzp-DN",
    "outputId": "32765d1c-3052-4209-ed06-5cb4af6e5852"
   },
   "outputs": [
    {
     "name": "stdout",
     "output_type": "stream",
     "text": [
      "None\n"
     ]
    }
   ],
   "source": [
    "def find_three_elements_with_sum(arr, target):\n",
    "    arr.sort()\n",
    "    n = len(arr)\n",
    "\n",
    "    for i in range(n-2):\n",
    "        left = i + 1\n",
    "        right = n - 1\n",
    "\n",
    "        while left < right:\n",
    "            current_sum = arr[i] + arr[left] + arr[right]\n",
    "            if current_sum == target:\n",
    "                return (arr[i], arr[left], arr[right])\n",
    "            elif current_sum < target:\n",
    "                left += 1\n",
    "            else:\n",
    "                right -= 1\n",
    "\n",
    "    return None\n",
    "\n",
    "arr = [1, 2, 4, 5, 12]\n",
    "target = 9\n",
    "print(find_three_elements_with_sum(arr, target))\n"
   ]
  },
  {
   "cell_type": "markdown",
   "metadata": {
    "id": "A6XrcV7Ep-s_"
   },
   "source": [
    "Problem 7 : Given an array of n elements . Find three elements i, j, k in the array such that\n",
    "i * i + j * j = k*k.\n",
    "\n"
   ]
  },
  {
   "cell_type": "code",
   "execution_count": 14,
   "metadata": {
    "colab": {
     "base_uri": "https://localhost:8080/"
    },
    "id": "55YqeNrwqBCi",
    "outputId": "ea63947d-3f37-45c5-db28-f5b89e9cb566"
   },
   "outputs": [
    {
     "name": "stdout",
     "output_type": "stream",
     "text": [
      "(3, 4, 5)\n"
     ]
    }
   ],
   "source": [
    "def find_pythagorean_triplet(arr):\n",
    "    n = len(arr)\n",
    "    arr = [x**2 for x in arr]\n",
    "    arr.sort()\n",
    "\n",
    "    for i in range(n-1, 1, -1):\n",
    "        left = 0\n",
    "        right = i - 1\n",
    "\n",
    "        while left < right:\n",
    "            if arr[left] + arr[right] == arr[i]:\n",
    "                return (int(arr[left]**0.5), int(arr[right]**0.5), int(arr[i]**0.5))\n",
    "            elif arr[left] + arr[right] < arr[i]:\n",
    "                left += 1\n",
    "            else:\n",
    "                right -= 1\n",
    "\n",
    "    return None\n",
    "\n",
    "arr = [3, 1, 4, 6, 5]\n",
    "print(find_pythagorean_triplet(arr))\n"
   ]
  },
  {
   "cell_type": "markdown",
   "metadata": {
    "id": "DGwGm1t2qBe3"
   },
   "source": [
    "Problem 8 : An element is a majority if it appears more than n/2 times. Give an algorithm takes an array of n\n",
    "element as argument and identifies a majority (if it exists).\n",
    "\n"
   ]
  },
  {
   "cell_type": "code",
   "execution_count": 16,
   "metadata": {
    "colab": {
     "base_uri": "https://localhost:8080/"
    },
    "id": "NA6jMfjOqDq9",
    "outputId": "8f67d520-571d-4915-9f34-e958cf827dd6"
   },
   "outputs": [
    {
     "name": "stdout",
     "output_type": "stream",
     "text": [
      "2\n"
     ]
    }
   ],
   "source": [
    "def find_majority_element(arr):\n",
    "    candidate = None\n",
    "    count = 0\n",
    "\n",
    "    for num in arr:\n",
    "        if count == 0:\n",
    "            candidate = num\n",
    "        count += 1 if num == candidate else -1\n",
    "\n",
    "    if arr.count(candidate) > len(arr) // 2:\n",
    "        return candidate\n",
    "    else:\n",
    "        return None\n",
    "\n",
    "\n",
    "arr = [2, 2, 1, 1, 2, 2, 2]\n",
    "print(find_majority_element(arr))\n"
   ]
  },
  {
   "cell_type": "markdown",
   "metadata": {
    "id": "Uu8_ghuRqEIR"
   },
   "source": [
    "Problem 9 : Given n × n matrix, and in each row all 1’s are followed by 0’s. Find the row with the maximum\n",
    "number of 0’s.\n",
    "\n"
   ]
  },
  {
   "cell_type": "code",
   "execution_count": 18,
   "metadata": {
    "colab": {
     "base_uri": "https://localhost:8080/"
    },
    "id": "WW215hCfqFw2",
    "outputId": "3600eaf1-3c31-4687-818c-29a0b6e39097"
   },
   "outputs": [
    {
     "name": "stdout",
     "output_type": "stream",
     "text": [
      "3\n"
     ]
    }
   ],
   "source": [
    "def find_row_with_max_zeros(matrix):\n",
    "    max_zeros_row = 0\n",
    "    max_zeros_count = 0\n",
    "    n = len(matrix)\n",
    "\n",
    "    for i in range(n):\n",
    "        count_zeros = 0\n",
    "        for j in range(n-1, -1, -1):\n",
    "            if matrix[i][j] == 0:\n",
    "                count_zeros += 1\n",
    "            else:\n",
    "                break\n",
    "        if count_zeros > max_zeros_count:\n",
    "            max_zeros_count = count_zeros\n",
    "            max_zeros_row = i\n",
    "\n",
    "    return max_zeros_row\n",
    "\n",
    "matrix = [\n",
    "    [1, 1, 0, 0],\n",
    "    [1, 0, 0, 0],\n",
    "    [1, 1, 1, 0],\n",
    "    [0, 0, 0, 0]\n",
    "]\n",
    "print(find_row_with_max_zeros(matrix))\n"
   ]
  },
  {
   "cell_type": "markdown",
   "metadata": {
    "id": "LHqBZrKOqGeS"
   },
   "source": [
    "Problem 10 : Sort an array of 0’s, 1’s and 2’s [or R’s, G’s and B’s]: Given an array A[] consisting of 0’s, 1’s and\n",
    "2’s, give an algorithm for sorting A[].The algorithm should put all 0’s first, then all 1’s and finally all 2’s at the\n",
    "end. Example Input = {0,1,1,0,1,2,1,2,0,0,0,1}, Output = {0,0,0,0,0,1,1,1,1,1,2,2}\n"
   ]
  },
  {
   "cell_type": "code",
   "execution_count": 20,
   "metadata": {
    "id": "IwWCfXQ2qHFd"
   },
   "outputs": [],
   "source": [
    "def sort_colors(arr):\n",
    "    low = 0\n",
    "    mid = 0\n",
    "    high = len(arr) - 1\n",
    "\n",
    "    while mid <= high:\n",
    "        if arr[mid] == 0:\n",
    "            arr[low], arr[mid] = arr[mid], arr[low]\n",
    "            low += 1\n",
    "            mid += 1\n",
    "        elif arr[mid] == 1:\n",
    "            mid += 1\n",
    "        else:\n",
    "            arr[mid], arr[high] = arr[high], arr[mid]\n",
    "            high -= 1\n",
    "\n",
    "    return arr\n",
    "\n"
   ]
  }
 ],
 "metadata": {
  "colab": {
   "name": "Welcome to Colaboratory",
   "provenance": []
  },
  "kernelspec": {
   "display_name": "Python 3 (ipykernel)",
   "language": "python",
   "name": "python3"
  },
  "language_info": {
   "codemirror_mode": {
    "name": "ipython",
    "version": 3
   },
   "file_extension": ".py",
   "mimetype": "text/x-python",
   "name": "python",
   "nbconvert_exporter": "python",
   "pygments_lexer": "ipython3",
   "version": "3.12.4"
  }
 },
 "nbformat": 4,
 "nbformat_minor": 4
}
