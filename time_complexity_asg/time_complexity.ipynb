{
  "nbformat": 4,
  "nbformat_minor": 0,
  "metadata": {
    "colab": {
      "private_outputs": true,
      "provenance": []
    },
    "kernelspec": {
      "name": "python3",
      "display_name": "Python 3"
    },
    "language_info": {
      "name": "python"
    }
  },
  "cells": [
    {
      "cell_type": "markdown",
      "source": [
        "# Find time complexity of below code blocks :"
      ],
      "metadata": {
        "id": "9ibIEEDOyrFO"
      }
    },
    {
      "cell_type": "markdown",
      "source": [
        "Problem 1 :\n",
        "def quicksort(arr):\n",
        "if len(arr) <= 1:\n",
        "return arr\n",
        "pivot = arr[len(arr) // 2]\n",
        "left = [x for x in arr if x < pivot]\n",
        "middle = [x for x in arr if x == pivot]\n",
        "right = [x for x in arr if x > pivot]\n",
        "return quicksort(left) + middle + quicksort(right)\n"
      ],
      "metadata": {
        "id": "51ChdEabyx-0"
      }
    },
    {
      "cell_type": "code",
      "execution_count": null,
      "metadata": {
        "id": "5-Ige_IxyqEN"
      },
      "outputs": [],
      "source": [
        "def quicksort(arr):\n",
        "    if len(arr) <= 1:\n",
        "        return arr\n",
        "    pivot = arr[len(arr) // 2]\n",
        "    left = [x for x in arr if x < pivot]\n",
        "    middle = [x for x in arr if x == pivot]\n",
        "    right = [x for x in arr if x > pivot]\n",
        "    return quicksort(left) + middle + quicksort(right)\n"
      ]
    },
    {
      "cell_type": "markdown",
      "source": [
        "# Quicksort: Average case:\n",
        "𝑂\n",
        "(\n",
        "𝑛\n",
        "log\n",
        "⁡\n",
        "𝑛\n",
        ")\n",
        "O(nlogn), Worst case:\n",
        "𝑂\n",
        "(\n",
        "𝑛\n",
        "2\n",
        ")\n",
        "O(n\n",
        "2\n",
        " )"
      ],
      "metadata": {
        "id": "otblgx4Dy_tr"
      }
    },
    {
      "cell_type": "markdown",
      "source": [
        "# Problem 2 :\n",
        "def nested_loop_example(matrix):\n",
        "rows, cols = len(matrix), len(matrix[0])\n",
        "total = 0\n",
        "for i in range(rows):\n",
        "for j in range(cols):\n",
        "total += matrix[i][j]\n",
        "return total\n"
      ],
      "metadata": {
        "id": "e4Mp_yGYzECl"
      }
    },
    {
      "cell_type": "code",
      "source": [
        "def nested_loop_example(matrix):\n",
        "    rows, cols = len(matrix), len(matrix[0])\n",
        "    total = 0\n",
        "    for i in range(rows):\n",
        "        for j in range(cols):\n",
        "            total += matrix[i][j]\n",
        "    return total\n"
      ],
      "metadata": {
        "id": "-v0coarozKlU"
      },
      "execution_count": null,
      "outputs": []
    },
    {
      "cell_type": "markdown",
      "source": [
        "# Nested Loop Example:\n",
        "𝑂\n",
        "(\n",
        "𝑟\n",
        "𝑜\n",
        "𝑤\n",
        "𝑠\n",
        "×\n",
        "𝑐\n",
        "𝑜\n",
        "𝑙\n",
        "𝑠\n",
        ")\n",
        "O(rows×cols)"
      ],
      "metadata": {
        "id": "suHTN6WbzbDk"
      }
    },
    {
      "cell_type": "markdown",
      "source": [
        "# Problem 3 :\n",
        "def example_function(arr):\n",
        "result = 0\n",
        "for element in arr:\n",
        "result += element\n",
        "return result\n"
      ],
      "metadata": {
        "id": "KLBCPl5mzLPT"
      }
    },
    {
      "cell_type": "code",
      "source": [
        "def example_function(arr):\n",
        "    result = 0\n",
        "    for element in arr:\n",
        "        result += element\n",
        "    return result\n"
      ],
      "metadata": {
        "id": "Ec-pg_sYzOQ6"
      },
      "execution_count": null,
      "outputs": []
    },
    {
      "cell_type": "markdown",
      "source": [
        "# Example Function:\n",
        "𝑂\n",
        "(\n",
        "𝑛\n",
        ")\n",
        "O(n)"
      ],
      "metadata": {
        "id": "BcbkQIM-zgok"
      }
    },
    {
      "cell_type": "markdown",
      "source": [
        "# Problem 4 :\n",
        "def longest_increasing_subsequence(nums):\n",
        "n = len(nums)\n",
        "lis = [1] * n\n",
        "for i in range(1, n):\n",
        "for j in range(0, i):\n",
        "if nums[i] > nums[j] and lis[i] < lis[j] + 1:\n",
        "lis[i] = lis[j] + 1\n",
        "return max(lis)"
      ],
      "metadata": {
        "id": "KFuTX8WnzO6t"
      }
    },
    {
      "cell_type": "code",
      "source": [
        "def longest_increasing_subsequence(nums):\n",
        "    n = len(nums)\n",
        "    lis = [1] * n\n",
        "    for i in range(1, n):\n",
        "        for j in range(0, i):\n",
        "            if nums[i] > nums[j] and lis[i] < lis[j] + 1:\n",
        "                lis[i] = lis[j] + 1\n",
        "    return max(lis)\n"
      ],
      "metadata": {
        "id": "zXZmWw_4zQj7"
      },
      "execution_count": null,
      "outputs": []
    },
    {
      "cell_type": "markdown",
      "source": [
        "# Longest Increasing Subsequence:\n",
        "𝑂\n",
        "(\n",
        "𝑛\n",
        "2\n",
        ")\n",
        "O(n\n",
        "2\n",
        " )"
      ],
      "metadata": {
        "id": "sO8NJvAMzmRk"
      }
    },
    {
      "cell_type": "code",
      "source": [],
      "metadata": {
        "id": "i_UWltnCzZg-"
      },
      "execution_count": null,
      "outputs": []
    },
    {
      "cell_type": "markdown",
      "source": [
        "# Problem 5 :\n",
        "def mysterious_function(arr):\n",
        "n = len(arr)\n",
        "result = 0\n",
        "for i in range(n):\n",
        "for j in range(i, n):\n",
        "result += arr[i] * arr[j]\n",
        "return result"
      ],
      "metadata": {
        "id": "zzuCR-lWzsOL"
      }
    },
    {
      "cell_type": "code",
      "source": [
        "def mysterious_function(arr):\n",
        "    n = len(arr)\n",
        "    result = 0\n",
        "    for i in range(n):\n",
        "        for j in range(i, n):\n",
        "            result += arr[i] * arr[j]\n",
        "    return result\n"
      ],
      "metadata": {
        "id": "Dgrsjokwzs8d"
      },
      "execution_count": null,
      "outputs": []
    },
    {
      "cell_type": "markdown",
      "source": [
        "# Time Complexity:\n",
        "𝑂\n",
        "(\n",
        "𝑛\n",
        "2\n",
        ")\n",
        "O(n\n",
        "2\n",
        " )"
      ],
      "metadata": {
        "id": "ATlLrWEBzyKD"
      }
    },
    {
      "cell_type": "code",
      "source": [],
      "metadata": {
        "id": "C9yUvvtbzv8O"
      },
      "execution_count": null,
      "outputs": []
    },
    {
      "cell_type": "markdown",
      "source": [
        "# Problem 6 : Sum of Digits\n",
        "Write a recursive function to calculate the sum of digits of a given positive integer.\n",
        "sum_of_digits(123) -> 6\n",
        "\n"
      ],
      "metadata": {
        "id": "pDmRgveQz8rr"
      }
    },
    {
      "cell_type": "code",
      "source": [
        "def sum_of_digits(n):\n",
        "    if n == 0:\n",
        "        return 0\n",
        "    return (n % 10) + sum_of_digits(n // 10)\n",
        "\n",
        "# Example\n",
        "print(sum_of_digits(123))  # Output: 6\n"
      ],
      "metadata": {
        "id": "yB-9hw3wz-sN"
      },
      "execution_count": null,
      "outputs": []
    },
    {
      "cell_type": "markdown",
      "source": [
        "# Problem 7: Fibonacci Series\n",
        "Write a recursive function to generate the first n numbers of the Fibonacci series.\n",
        "fibonacci_series(6) -> [0, 1, 1, 2, 3, 5]\n",
        "\n"
      ],
      "metadata": {
        "id": "WsadpVZbz_Hj"
      }
    },
    {
      "cell_type": "code",
      "source": [
        "def fibonacci_series(n):\n",
        "    def fib_helper(x):\n",
        "        if x == 0:\n",
        "            return [0]\n",
        "        elif x == 1:\n",
        "            return [0, 1]\n",
        "        else:\n",
        "            series = fib_helper(x - 1)\n",
        "            series.append(series[-1] + series[-2])\n",
        "            return series\n",
        "\n",
        "    return fib_helper(n - 1)\n",
        "\n",
        "# Example\n",
        "print(fibonacci_series(6))  # Output: [0, 1, 1, 2, 3, 5]\n"
      ],
      "metadata": {
        "id": "cIuyZN370Bqr"
      },
      "execution_count": null,
      "outputs": []
    },
    {
      "cell_type": "markdown",
      "source": [
        "# Problem 8 : Subset Sum\n",
        "Given a set of positive integers and a target sum, write a recursive function to determine if there exists a subset\n",
        "of the integers that adds up to the target sum.\n",
        "subset_sum([3, 34, 4, 12, 5, 2], 9) -> True\n",
        "Solve the following problems on recursion\n",
        "\n"
      ],
      "metadata": {
        "id": "DVGaijkP0CFU"
      }
    },
    {
      "cell_type": "code",
      "source": [
        "def subset_sum(nums, target):\n",
        "    def subset_sum_helper(index, target):\n",
        "        if target == 0:\n",
        "            return True\n",
        "        if index >= len(nums):\n",
        "            return False\n",
        "        if nums[index] > target:\n",
        "            return subset_sum_helper(index + 1, target)\n",
        "        return subset_sum_helper(index + 1, target) or subset_sum_helper(index + 1, target - nums[index])\n",
        "\n",
        "    return subset_sum_helper(0, target)\n",
        "\n",
        "# Example\n",
        "print(subset_sum([3, 34, 4, 12, 5, 2], 9))\n"
      ],
      "metadata": {
        "id": "xso7598B0D25"
      },
      "execution_count": null,
      "outputs": []
    },
    {
      "cell_type": "markdown",
      "source": [
        "# Problem 9: Word Break\n",
        "Given a non-empty string and a dictionary of words, write a recursive function to determine if the string can be\n",
        "segmented into a space-separated sequence of dictionary words.\n",
        "word_break( leetcode , [ leet , code ]) -> True"
      ],
      "metadata": {
        "id": "rwPZrPDx0Eyt"
      }
    },
    {
      "cell_type": "code",
      "source": [
        "def word_break(s, word_dict):\n",
        "    def word_break_helper(start):\n",
        "        if start == len(s):\n",
        "            return True\n",
        "        for end in range(start + 1, len(s) + 1):\n",
        "            if s[start:end] in word_dict and word_break_helper(end):\n",
        "                return True\n",
        "        return False\n",
        "\n",
        "    return word_break_helper(0)\n",
        "\n",
        "# Example\n",
        "print(word_break('leetcode', ['leet', 'code']))\n"
      ],
      "metadata": {
        "id": "BpbS-_4V0FdL"
      },
      "execution_count": null,
      "outputs": []
    },
    {
      "cell_type": "markdown",
      "source": [
        "# Problem 10 : N-Queens\n",
        "Implement a recursive function to solve the N Queens problem, where you have to place N queens on an N×N\n",
        "chessboard in such a way that no two queens threaten each other.\n",
        "n_queens(4)\n",
        "[\n",
        "[\".Q..\",\n",
        "\"...Q\",\n",
        "\"Q...\",\n",
        "\"..Q.\"],\n",
        "[\"..Q.\",\n",
        "\"Q...\",\n",
        "\"...Q\",\n",
        "\".Q..\"]\n",
        "]"
      ],
      "metadata": {
        "id": "JhDjYNKw0ife"
      }
    },
    {
      "cell_type": "code",
      "source": [
        "def n_queens(n):\n",
        "    def is_valid(board, row, col):\n",
        "        # Check the same column\n",
        "        for i in range(row):\n",
        "            if board[i][col] == 'Q':\n",
        "                return False\n",
        "\n",
        "        # Check upper left diagonal\n",
        "        for i, j in zip(range(row, -1, -1), range(col, -1, -1)):\n",
        "            if board[i][j] == 'Q':\n",
        "                return False\n",
        "\n",
        "        # Check upper right diagonal\n",
        "        for i, j in zip(range(row, -1, -1), range(col, n)):\n",
        "            if board[i][j] == 'Q':\n",
        "                return False\n",
        "\n",
        "        return True\n",
        "\n",
        "    def solve(board, row):\n",
        "        if row >= n:\n",
        "            # All queens are placed\n",
        "            result.append([\"\".join(r) for r in board])\n",
        "            return\n",
        "\n",
        "        for col in range(n):\n",
        "            if is_valid(board, row, col):\n",
        "                board[row][col] = 'Q'\n",
        "                solve(board, row + 1)\n",
        "                board[row][col] = '.'\n",
        "\n",
        "    result = []\n",
        "    board = [['.' for _ in range(n)] for _ in range(n)]\n",
        "    solve(board, 0)\n",
        "    return result\n",
        "\n",
        "# Example\n",
        "print(n_queens(4))\n"
      ],
      "metadata": {
        "id": "ITHVBeHP0XeH"
      },
      "execution_count": null,
      "outputs": []
    },
    {
      "cell_type": "code",
      "source": [],
      "metadata": {
        "id": "sPsXBZq70fo_"
      },
      "execution_count": null,
      "outputs": []
    }
  ]
}